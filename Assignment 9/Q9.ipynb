{
  "nbformat": 4,
  "nbformat_minor": 0,
  "metadata": {
    "colab": {
      "name": "Q9.ipynb",
      "provenance": [],
      "authorship_tag": "ABX9TyNRNC+SrqNRvTKhAxvntvAl",
      "include_colab_link": true
    },
    "kernelspec": {
      "name": "python3",
      "display_name": "Python 3"
    },
    "accelerator": "GPU"
  },
  "cells": [
    {
      "cell_type": "markdown",
      "metadata": {
        "id": "view-in-github",
        "colab_type": "text"
      },
      "source": [
        "<a href=\"https://colab.research.google.com/github/kothawadegs/Deep-Learning/blob/master/Q9.ipynb\" target=\"_parent\"><img src=\"https://colab.research.google.com/assets/colab-badge.svg\" alt=\"Open In Colab\"/></a>"
      ]
    },
    {
      "cell_type": "code",
      "metadata": {
        "id": "nk4qPn9MSBQ3",
        "colab_type": "code",
        "colab": {
          "base_uri": "https://localhost:8080/",
          "height": 35
        },
        "outputId": "3ee59cb8-a308-44b3-a3e7-064873880a52"
      },
      "source": [
        "from google.colab import drive\n",
        "drive.mount('/content/gdrive')"
      ],
      "execution_count": 11,
      "outputs": [
        {
          "output_type": "stream",
          "text": [
            "Drive already mounted at /content/gdrive; to attempt to forcibly remount, call drive.mount(\"/content/gdrive\", force_remount=True).\n"
          ],
          "name": "stdout"
        }
      ]
    },
    {
      "cell_type": "code",
      "metadata": {
        "id": "YxE_f4UJhqes",
        "colab_type": "code",
        "colab": {
          "base_uri": "https://localhost:8080/",
          "height": 52
        },
        "outputId": "49cd03b4-56a2-40a3-e192-de28b5aeb0e1"
      },
      "source": [
        "ls"
      ],
      "execution_count": 12,
      "outputs": [
        {
          "output_type": "stream",
          "text": [
            "cudas.py  gradcam.py  map.jpg  \u001b[0m\u001b[01;34m__pycache__\u001b[0m/  train.py      \u001b[01;34mTransform_utils\u001b[0m/\n",
            "\u001b[01;34mdata\u001b[0m/     img1.png    \u001b[01;34mModel\u001b[0m/   test.py       transform.py\n"
          ],
          "name": "stdout"
        }
      ]
    },
    {
      "cell_type": "code",
      "metadata": {
        "id": "mVPPMeE1SJlv",
        "colab_type": "code",
        "colab": {
          "base_uri": "https://localhost:8080/",
          "height": 35
        },
        "outputId": "c9b899d4-16b7-475f-952e-55e908e87d2e"
      },
      "source": [
        "%cd /content/gdrive/My Drive/TSAI_EVA_4.0/"
      ],
      "execution_count": 13,
      "outputs": [
        {
          "output_type": "stream",
          "text": [
            "/content/gdrive/My Drive/TSAI_EVA_4.0\n"
          ],
          "name": "stdout"
        }
      ]
    },
    {
      "cell_type": "code",
      "metadata": {
        "id": "aySl3OfQcgUm",
        "colab_type": "code",
        "colab": {
          "base_uri": "https://localhost:8080/",
          "height": 35
        },
        "outputId": "734add96-8b07-438f-f2d5-9f903e5573c2"
      },
      "source": [
        "import datetime\n",
        "datetime.datetime.now()"
      ],
      "execution_count": 14,
      "outputs": [
        {
          "output_type": "execute_result",
          "data": {
            "text/plain": [
              "datetime.datetime(2020, 3, 22, 8, 38, 2, 554302)"
            ]
          },
          "metadata": {
            "tags": []
          },
          "execution_count": 14
        }
      ]
    },
    {
      "cell_type": "code",
      "metadata": {
        "id": "d7hJZTPwci3_",
        "colab_type": "code",
        "colab": {}
      },
      "source": [
        "%matplotlib inline\n",
        "import torch\n",
        "import torchvision\n",
        "import torchvision.transforms as transforms\n",
        "import matplotlib.pyplot as plt\n",
        "import numpy as np\n",
        "import albumentations"
      ],
      "execution_count": 0,
      "outputs": []
    },
    {
      "cell_type": "code",
      "metadata": {
        "id": "6t7t4FM5ck08",
        "colab_type": "code",
        "colab": {}
      },
      "source": [
        "import transform\n",
        "\n",
        "trainloader = transform.trainloader\n",
        "testloader =  transform.testloader\n",
        "classes = ('plane', 'car', 'bird', 'cat',\n",
        "           'deer', 'dog', 'frog', 'horse', 'ship', 'truck')"
      ],
      "execution_count": 0,
      "outputs": []
    },
    {
      "cell_type": "code",
      "metadata": {
        "id": "DeE_2fvWcn0f",
        "colab_type": "code",
        "colab": {
          "base_uri": "https://localhost:8080/",
          "height": 953
        },
        "outputId": "733ae508-1a49-4f5a-f167-25d5b715e768"
      },
      "source": [
        "from Model import QuizDNN\n",
        "\n",
        "!pip install torchsummary\n",
        "from torchsummary import summary\n",
        "use_cuda = torch.cuda.is_available()\n",
        "device = torch.device(\"cuda\" if use_cuda else \"cpu\")\n",
        "print(device)\n",
        "net = QuizDNN.Net().to(device)\n",
        "summary(net, input_size=(3, 32, 32))"
      ],
      "execution_count": 17,
      "outputs": [
        {
          "output_type": "stream",
          "text": [
            "Requirement already satisfied: torchsummary in /usr/local/lib/python3.6/dist-packages (1.5.1)\n",
            "cuda\n",
            "----------------------------------------------------------------\n",
            "        Layer (type)               Output Shape         Param #\n",
            "================================================================\n",
            "            Conv2d-1           [-1, 32, 32, 32]              96\n",
            "            Conv2d-2           [-1, 32, 32, 32]             864\n",
            "       BatchNorm2d-3           [-1, 32, 32, 32]              64\n",
            "              ReLU-4           [-1, 32, 32, 32]               0\n",
            "           Dropout-5           [-1, 32, 32, 32]               0\n",
            "            Conv2d-6           [-1, 32, 32, 32]           9,216\n",
            "       BatchNorm2d-7           [-1, 32, 32, 32]              64\n",
            "              ReLU-8           [-1, 32, 32, 32]               0\n",
            "           Dropout-9           [-1, 32, 32, 32]               0\n",
            "        MaxPool2d-10           [-1, 32, 16, 16]               0\n",
            "           Conv2d-11           [-1, 64, 16, 16]           2,048\n",
            "           Conv2d-12           [-1, 64, 16, 16]          18,432\n",
            "      BatchNorm2d-13           [-1, 64, 16, 16]             128\n",
            "             ReLU-14           [-1, 64, 16, 16]               0\n",
            "          Dropout-15           [-1, 64, 16, 16]               0\n",
            "           Conv2d-16           [-1, 64, 16, 16]          36,864\n",
            "      BatchNorm2d-17           [-1, 64, 16, 16]             128\n",
            "             ReLU-18           [-1, 64, 16, 16]               0\n",
            "          Dropout-19           [-1, 64, 16, 16]               0\n",
            "           Conv2d-20           [-1, 64, 16, 16]          36,864\n",
            "      BatchNorm2d-21           [-1, 64, 16, 16]             128\n",
            "             ReLU-22           [-1, 64, 16, 16]               0\n",
            "          Dropout-23           [-1, 64, 16, 16]               0\n",
            "        MaxPool2d-24             [-1, 64, 8, 8]               0\n",
            "           Conv2d-25            [-1, 128, 8, 8]           8,192\n",
            "           Conv2d-26            [-1, 128, 8, 8]          73,728\n",
            "      BatchNorm2d-27            [-1, 128, 8, 8]             256\n",
            "             ReLU-28            [-1, 128, 8, 8]               0\n",
            "          Dropout-29            [-1, 128, 8, 8]               0\n",
            "           Conv2d-30            [-1, 128, 8, 8]         147,456\n",
            "      BatchNorm2d-31            [-1, 128, 8, 8]             256\n",
            "             ReLU-32            [-1, 128, 8, 8]               0\n",
            "          Dropout-33            [-1, 128, 8, 8]               0\n",
            "           Conv2d-34            [-1, 128, 8, 8]         147,456\n",
            "      BatchNorm2d-35            [-1, 128, 8, 8]             256\n",
            "             ReLU-36            [-1, 128, 8, 8]               0\n",
            "          Dropout-37            [-1, 128, 8, 8]               0\n",
            "        AvgPool2d-38            [-1, 128, 1, 1]               0\n",
            "           Linear-39                   [-1, 10]           1,290\n",
            "================================================================\n",
            "Total params: 483,786\n",
            "Trainable params: 483,786\n",
            "Non-trainable params: 0\n",
            "----------------------------------------------------------------\n",
            "Input size (MB): 0.01\n",
            "Forward/backward pass size (MB): 4.78\n",
            "Params size (MB): 1.85\n",
            "Estimated Total Size (MB): 6.64\n",
            "----------------------------------------------------------------\n"
          ],
          "name": "stdout"
        }
      ]
    },
    {
      "cell_type": "code",
      "metadata": {
        "id": "OEL4Hx8Tc9-m",
        "colab_type": "code",
        "colab": {}
      },
      "source": [
        "import torch.optim as optim\n",
        "from torch.optim.lr_scheduler import StepLR\n",
        "import torch.nn as nn\n",
        "criterion = nn.CrossEntropyLoss()\n",
        "optimizer = optim.SGD(net.parameters(), lr=0.0011, momentum=0.9, weight_decay=0.0001)\n",
        "#scheduler = torch.optim.lr_scheduler.CyclicLR(optimizer, base_lr=0.001, max_lr=0.1)\n",
        "scheduler = StepLR(optimizer, step_size=10, gamma=0.51)"
      ],
      "execution_count": 0,
      "outputs": []
    },
    {
      "cell_type": "code",
      "metadata": {
        "id": "15nPv26LWns_",
        "colab_type": "code",
        "colab": {
          "base_uri": "https://localhost:8080/",
          "height": 1000
        },
        "outputId": "f26fb107-9e85-493d-83be-f22764e69182"
      },
      "source": [
        "import torch\n",
        "from tqdm import tqdm\n",
        "import train\n",
        "import test\n",
        "test_acc = []\n",
        "train_acc = []\n",
        "for epoch in range(36):  # loop over the dataset multiple times\n",
        "    if epoch>10:\n",
        "      scheduler.step()\n",
        "    for param_group in optimizer.param_groups:\n",
        "      print(\"lr= \",param_group['lr'])\n",
        "    train_acc.append(train.train(net, device, trainloader, optimizer, criterion, epoch))\n",
        "    test_acc.append(test.test(net, device, testloader))\n",
        "print('Finished Training')"
      ],
      "execution_count": 28,
      "outputs": [
        {
          "output_type": "stream",
          "text": [
            "\r  0%|          | 0/391 [00:00<?, ?it/s]"
          ],
          "name": "stderr"
        },
        {
          "output_type": "stream",
          "text": [
            "lr=  3.795277761000002e-05\n"
          ],
          "name": "stdout"
        },
        {
          "output_type": "stream",
          "text": [
            "Epoch= 0 Loss=0.2519608736038208 Batch_id=390 Accuracy=92.50: 100%|██████████| 391/391 [00:13<00:00, 29.70it/s]\n",
            "100%|██████████| 79/79 [00:01<00:00, 41.06it/s]\n",
            "  0%|          | 0/391 [00:00<?, ?it/s]"
          ],
          "name": "stderr"
        },
        {
          "output_type": "stream",
          "text": [
            "Accuracy of the network on the 10000 test images: 75 %\n",
            "lr=  3.795277761000002e-05\n"
          ],
          "name": "stdout"
        },
        {
          "output_type": "stream",
          "text": [
            "Epoch= 1 Loss=0.30169877409935 Batch_id=390 Accuracy=87.50: 100%|██████████| 391/391 [00:13<00:00, 29.95it/s]\n",
            "100%|██████████| 79/79 [00:01<00:00, 42.22it/s]\n",
            "  0%|          | 0/391 [00:00<?, ?it/s]"
          ],
          "name": "stderr"
        },
        {
          "output_type": "stream",
          "text": [
            "Accuracy of the network on the 10000 test images: 74 %\n",
            "lr=  3.795277761000002e-05\n"
          ],
          "name": "stdout"
        },
        {
          "output_type": "stream",
          "text": [
            "Epoch= 2 Loss=0.4959220886230469 Batch_id=390 Accuracy=80.00: 100%|██████████| 391/391 [00:12<00:00, 30.67it/s]\n",
            "100%|██████████| 79/79 [00:01<00:00, 42.89it/s]\n",
            "  0%|          | 0/391 [00:00<?, ?it/s]"
          ],
          "name": "stderr"
        },
        {
          "output_type": "stream",
          "text": [
            "Accuracy of the network on the 10000 test images: 75 %\n",
            "lr=  3.795277761000002e-05\n"
          ],
          "name": "stdout"
        },
        {
          "output_type": "stream",
          "text": [
            "Epoch= 3 Loss=0.3757946491241455 Batch_id=390 Accuracy=91.25: 100%|██████████| 391/391 [00:12<00:00, 30.71it/s]\n",
            "100%|██████████| 79/79 [00:01<00:00, 42.97it/s]\n",
            "  0%|          | 0/391 [00:00<?, ?it/s]"
          ],
          "name": "stderr"
        },
        {
          "output_type": "stream",
          "text": [
            "Accuracy of the network on the 10000 test images: 74 %\n",
            "lr=  3.795277761000002e-05\n"
          ],
          "name": "stdout"
        },
        {
          "output_type": "stream",
          "text": [
            "Epoch= 4 Loss=0.2685701251029968 Batch_id=390 Accuracy=86.25: 100%|██████████| 391/391 [00:12<00:00, 30.75it/s]\n",
            "100%|██████████| 79/79 [00:01<00:00, 42.38it/s]\n",
            "  0%|          | 0/391 [00:00<?, ?it/s]"
          ],
          "name": "stderr"
        },
        {
          "output_type": "stream",
          "text": [
            "Accuracy of the network on the 10000 test images: 75 %\n",
            "lr=  3.795277761000002e-05\n"
          ],
          "name": "stdout"
        },
        {
          "output_type": "stream",
          "text": [
            "Epoch= 5 Loss=0.47014179825782776 Batch_id=390 Accuracy=86.25: 100%|██████████| 391/391 [00:12<00:00, 30.49it/s]\n",
            "100%|██████████| 79/79 [00:01<00:00, 41.65it/s]\n",
            "  0%|          | 0/391 [00:00<?, ?it/s]"
          ],
          "name": "stderr"
        },
        {
          "output_type": "stream",
          "text": [
            "Accuracy of the network on the 10000 test images: 75 %\n",
            "lr=  3.795277761000002e-05\n"
          ],
          "name": "stdout"
        },
        {
          "output_type": "stream",
          "text": [
            "Epoch= 6 Loss=0.37925389409065247 Batch_id=390 Accuracy=90.00: 100%|██████████| 391/391 [00:13<00:00, 29.76it/s]\n",
            "100%|██████████| 79/79 [00:01<00:00, 41.65it/s]\n",
            "  0%|          | 0/391 [00:00<?, ?it/s]"
          ],
          "name": "stderr"
        },
        {
          "output_type": "stream",
          "text": [
            "Accuracy of the network on the 10000 test images: 75 %\n",
            "lr=  3.795277761000002e-05\n"
          ],
          "name": "stdout"
        },
        {
          "output_type": "stream",
          "text": [
            "Epoch= 7 Loss=0.38188114762306213 Batch_id=390 Accuracy=87.50: 100%|██████████| 391/391 [00:13<00:00, 29.81it/s]\n",
            "100%|██████████| 79/79 [00:01<00:00, 41.71it/s]\n",
            "  0%|          | 0/391 [00:00<?, ?it/s]"
          ],
          "name": "stderr"
        },
        {
          "output_type": "stream",
          "text": [
            "Accuracy of the network on the 10000 test images: 75 %\n",
            "lr=  3.795277761000002e-05\n"
          ],
          "name": "stdout"
        },
        {
          "output_type": "stream",
          "text": [
            "Epoch= 8 Loss=0.35207587480545044 Batch_id=390 Accuracy=88.75: 100%|██████████| 391/391 [00:13<00:00, 29.66it/s]\n",
            "100%|██████████| 79/79 [00:01<00:00, 42.76it/s]\n",
            "  0%|          | 0/391 [00:00<?, ?it/s]"
          ],
          "name": "stderr"
        },
        {
          "output_type": "stream",
          "text": [
            "Accuracy of the network on the 10000 test images: 76 %\n",
            "lr=  3.795277761000002e-05\n"
          ],
          "name": "stdout"
        },
        {
          "output_type": "stream",
          "text": [
            "Epoch= 9 Loss=0.25946933031082153 Batch_id=390 Accuracy=92.50: 100%|██████████| 391/391 [00:13<00:00, 30.01it/s]\n",
            "100%|██████████| 79/79 [00:01<00:00, 41.86it/s]\n",
            "  0%|          | 0/391 [00:00<?, ?it/s]"
          ],
          "name": "stderr"
        },
        {
          "output_type": "stream",
          "text": [
            "Accuracy of the network on the 10000 test images: 74 %\n",
            "lr=  3.795277761000002e-05\n"
          ],
          "name": "stdout"
        },
        {
          "output_type": "stream",
          "text": [
            "Epoch= 10 Loss=0.35470667481422424 Batch_id=390 Accuracy=90.00: 100%|██████████| 391/391 [00:13<00:00, 30.02it/s]\n",
            "100%|██████████| 79/79 [00:01<00:00, 42.16it/s]\n",
            "  0%|          | 0/391 [00:00<?, ?it/s]"
          ],
          "name": "stderr"
        },
        {
          "output_type": "stream",
          "text": [
            "Accuracy of the network on the 10000 test images: 74 %\n",
            "lr=  3.795277761000002e-05\n"
          ],
          "name": "stdout"
        },
        {
          "output_type": "stream",
          "text": [
            "Epoch= 11 Loss=0.35916921496391296 Batch_id=390 Accuracy=91.25: 100%|██████████| 391/391 [00:13<00:00, 29.64it/s]\n",
            "100%|██████████| 79/79 [00:01<00:00, 42.01it/s]\n",
            "  0%|          | 0/391 [00:00<?, ?it/s]"
          ],
          "name": "stderr"
        },
        {
          "output_type": "stream",
          "text": [
            "Accuracy of the network on the 10000 test images: 74 %\n",
            "lr=  3.795277761000002e-05\n"
          ],
          "name": "stdout"
        },
        {
          "output_type": "stream",
          "text": [
            "Epoch= 12 Loss=0.1742274910211563 Batch_id=390 Accuracy=93.75: 100%|██████████| 391/391 [00:13<00:00, 29.64it/s]\n",
            "100%|██████████| 79/79 [00:01<00:00, 42.21it/s]\n",
            "  0%|          | 0/391 [00:00<?, ?it/s]"
          ],
          "name": "stderr"
        },
        {
          "output_type": "stream",
          "text": [
            "Accuracy of the network on the 10000 test images: 75 %\n",
            "lr=  3.795277761000002e-05\n"
          ],
          "name": "stdout"
        },
        {
          "output_type": "stream",
          "text": [
            "Epoch= 13 Loss=0.32617613673210144 Batch_id=390 Accuracy=82.50: 100%|██████████| 391/391 [00:13<00:00, 29.93it/s]\n",
            "100%|██████████| 79/79 [00:01<00:00, 42.32it/s]\n",
            "  0%|          | 0/391 [00:00<?, ?it/s]"
          ],
          "name": "stderr"
        },
        {
          "output_type": "stream",
          "text": [
            "Accuracy of the network on the 10000 test images: 74 %\n",
            "lr=  1.935591658110001e-05\n"
          ],
          "name": "stdout"
        },
        {
          "output_type": "stream",
          "text": [
            "Epoch= 14 Loss=0.39345160126686096 Batch_id=390 Accuracy=83.75: 100%|██████████| 391/391 [00:13<00:00, 29.94it/s]\n",
            "100%|██████████| 79/79 [00:01<00:00, 42.10it/s]\n",
            "  0%|          | 0/391 [00:00<?, ?it/s]"
          ],
          "name": "stderr"
        },
        {
          "output_type": "stream",
          "text": [
            "Accuracy of the network on the 10000 test images: 76 %\n",
            "lr=  1.935591658110001e-05\n"
          ],
          "name": "stdout"
        },
        {
          "output_type": "stream",
          "text": [
            "Epoch= 15 Loss=0.2972860336303711 Batch_id=390 Accuracy=86.25: 100%|██████████| 391/391 [00:13<00:00, 29.44it/s]\n",
            "100%|██████████| 79/79 [00:01<00:00, 41.43it/s]\n",
            "  0%|          | 0/391 [00:00<?, ?it/s]"
          ],
          "name": "stderr"
        },
        {
          "output_type": "stream",
          "text": [
            "Accuracy of the network on the 10000 test images: 75 %\n",
            "lr=  1.935591658110001e-05\n"
          ],
          "name": "stdout"
        },
        {
          "output_type": "stream",
          "text": [
            "Epoch= 16 Loss=0.19185933470726013 Batch_id=390 Accuracy=93.75: 100%|██████████| 391/391 [00:12<00:00, 30.12it/s]\n",
            "100%|██████████| 79/79 [00:01<00:00, 41.71it/s]\n",
            "  0%|          | 0/391 [00:00<?, ?it/s]"
          ],
          "name": "stderr"
        },
        {
          "output_type": "stream",
          "text": [
            "Accuracy of the network on the 10000 test images: 74 %\n",
            "lr=  1.935591658110001e-05\n"
          ],
          "name": "stdout"
        },
        {
          "output_type": "stream",
          "text": [
            "Epoch= 17 Loss=0.30309778451919556 Batch_id=390 Accuracy=87.50: 100%|██████████| 391/391 [00:13<00:00, 29.72it/s]\n",
            "100%|██████████| 79/79 [00:01<00:00, 41.46it/s]\n",
            "  0%|          | 0/391 [00:00<?, ?it/s]"
          ],
          "name": "stderr"
        },
        {
          "output_type": "stream",
          "text": [
            "Accuracy of the network on the 10000 test images: 75 %\n",
            "lr=  1.935591658110001e-05\n"
          ],
          "name": "stdout"
        },
        {
          "output_type": "stream",
          "text": [
            "Epoch= 18 Loss=0.3041822016239166 Batch_id=390 Accuracy=88.75: 100%|██████████| 391/391 [00:12<00:00, 30.36it/s]\n",
            "100%|██████████| 79/79 [00:01<00:00, 42.24it/s]\n",
            "  0%|          | 0/391 [00:00<?, ?it/s]"
          ],
          "name": "stderr"
        },
        {
          "output_type": "stream",
          "text": [
            "Accuracy of the network on the 10000 test images: 75 %\n",
            "lr=  1.935591658110001e-05\n"
          ],
          "name": "stdout"
        },
        {
          "output_type": "stream",
          "text": [
            "Epoch= 19 Loss=0.37151116132736206 Batch_id=390 Accuracy=85.00: 100%|██████████| 391/391 [00:13<00:00, 29.96it/s]\n",
            "100%|██████████| 79/79 [00:01<00:00, 42.26it/s]\n",
            "  0%|          | 0/391 [00:00<?, ?it/s]"
          ],
          "name": "stderr"
        },
        {
          "output_type": "stream",
          "text": [
            "Accuracy of the network on the 10000 test images: 75 %\n",
            "lr=  1.935591658110001e-05\n"
          ],
          "name": "stdout"
        },
        {
          "output_type": "stream",
          "text": [
            "Epoch= 20 Loss=0.19070599973201752 Batch_id=390 Accuracy=95.00: 100%|██████████| 391/391 [00:12<00:00, 30.31it/s]\n",
            "100%|██████████| 79/79 [00:01<00:00, 42.37it/s]\n",
            "  0%|          | 0/391 [00:00<?, ?it/s]"
          ],
          "name": "stderr"
        },
        {
          "output_type": "stream",
          "text": [
            "Accuracy of the network on the 10000 test images: 75 %\n",
            "lr=  1.935591658110001e-05\n"
          ],
          "name": "stdout"
        },
        {
          "output_type": "stream",
          "text": [
            "Epoch= 21 Loss=0.334203839302063 Batch_id=390 Accuracy=90.00: 100%|██████████| 391/391 [00:12<00:00, 30.40it/s]\n",
            "100%|██████████| 79/79 [00:01<00:00, 41.98it/s]\n",
            "  0%|          | 0/391 [00:00<?, ?it/s]"
          ],
          "name": "stderr"
        },
        {
          "output_type": "stream",
          "text": [
            "Accuracy of the network on the 10000 test images: 75 %\n",
            "lr=  1.935591658110001e-05\n"
          ],
          "name": "stdout"
        },
        {
          "output_type": "stream",
          "text": [
            "Epoch= 22 Loss=0.23652906715869904 Batch_id=390 Accuracy=90.00: 100%|██████████| 391/391 [00:13<00:00, 29.79it/s]\n",
            "100%|██████████| 79/79 [00:01<00:00, 41.28it/s]\n",
            "  0%|          | 0/391 [00:00<?, ?it/s]"
          ],
          "name": "stderr"
        },
        {
          "output_type": "stream",
          "text": [
            "Accuracy of the network on the 10000 test images: 75 %\n",
            "lr=  1.935591658110001e-05\n"
          ],
          "name": "stdout"
        },
        {
          "output_type": "stream",
          "text": [
            "Epoch= 23 Loss=0.3352927565574646 Batch_id=390 Accuracy=88.75: 100%|██████████| 391/391 [00:13<00:00, 29.76it/s]\n",
            "100%|██████████| 79/79 [00:02<00:00, 38.63it/s]\n",
            "  0%|          | 0/391 [00:00<?, ?it/s]"
          ],
          "name": "stderr"
        },
        {
          "output_type": "stream",
          "text": [
            "Accuracy of the network on the 10000 test images: 75 %\n",
            "lr=  9.871517456361005e-06\n"
          ],
          "name": "stdout"
        },
        {
          "output_type": "stream",
          "text": [
            "Epoch= 24 Loss=0.2570582926273346 Batch_id=390 Accuracy=92.50: 100%|██████████| 391/391 [00:12<00:00, 30.69it/s]\n",
            "100%|██████████| 79/79 [00:01<00:00, 42.83it/s]\n",
            "  0%|          | 0/391 [00:00<?, ?it/s]"
          ],
          "name": "stderr"
        },
        {
          "output_type": "stream",
          "text": [
            "Accuracy of the network on the 10000 test images: 75 %\n",
            "lr=  9.871517456361005e-06\n"
          ],
          "name": "stdout"
        },
        {
          "output_type": "stream",
          "text": [
            "Epoch= 25 Loss=0.24406945705413818 Batch_id=390 Accuracy=92.50: 100%|██████████| 391/391 [00:12<00:00, 30.97it/s]\n",
            "100%|██████████| 79/79 [00:01<00:00, 43.38it/s]\n",
            "  0%|          | 0/391 [00:00<?, ?it/s]"
          ],
          "name": "stderr"
        },
        {
          "output_type": "stream",
          "text": [
            "Accuracy of the network on the 10000 test images: 75 %\n",
            "lr=  9.871517456361005e-06\n"
          ],
          "name": "stdout"
        },
        {
          "output_type": "stream",
          "text": [
            "Epoch= 26 Loss=0.2467416524887085 Batch_id=390 Accuracy=95.00: 100%|██████████| 391/391 [00:12<00:00, 30.44it/s]\n",
            "100%|██████████| 79/79 [00:01<00:00, 42.66it/s]\n",
            "  0%|          | 0/391 [00:00<?, ?it/s]"
          ],
          "name": "stderr"
        },
        {
          "output_type": "stream",
          "text": [
            "Accuracy of the network on the 10000 test images: 74 %\n",
            "lr=  9.871517456361005e-06\n"
          ],
          "name": "stdout"
        },
        {
          "output_type": "stream",
          "text": [
            "Epoch= 27 Loss=0.3844384551048279 Batch_id=390 Accuracy=86.25: 100%|██████████| 391/391 [00:12<00:00, 30.57it/s]\n",
            "100%|██████████| 79/79 [00:01<00:00, 42.69it/s]\n",
            "  0%|          | 0/391 [00:00<?, ?it/s]"
          ],
          "name": "stderr"
        },
        {
          "output_type": "stream",
          "text": [
            "Accuracy of the network on the 10000 test images: 74 %\n",
            "lr=  9.871517456361005e-06\n"
          ],
          "name": "stdout"
        },
        {
          "output_type": "stream",
          "text": [
            "Epoch= 28 Loss=0.2746022939682007 Batch_id=390 Accuracy=90.00: 100%|██████████| 391/391 [00:12<00:00, 30.32it/s]\n",
            "100%|██████████| 79/79 [00:01<00:00, 43.05it/s]\n",
            "  0%|          | 0/391 [00:00<?, ?it/s]"
          ],
          "name": "stderr"
        },
        {
          "output_type": "stream",
          "text": [
            "Accuracy of the network on the 10000 test images: 75 %\n",
            "lr=  9.871517456361005e-06\n"
          ],
          "name": "stdout"
        },
        {
          "output_type": "stream",
          "text": [
            "Epoch= 29 Loss=0.25206777453422546 Batch_id=390 Accuracy=96.25: 100%|██████████| 391/391 [00:12<00:00, 30.82it/s]\n",
            "100%|██████████| 79/79 [00:01<00:00, 43.17it/s]\n",
            "  0%|          | 0/391 [00:00<?, ?it/s]"
          ],
          "name": "stderr"
        },
        {
          "output_type": "stream",
          "text": [
            "Accuracy of the network on the 10000 test images: 74 %\n",
            "lr=  9.871517456361005e-06\n"
          ],
          "name": "stdout"
        },
        {
          "output_type": "stream",
          "text": [
            "Epoch= 30 Loss=0.2193215787410736 Batch_id=390 Accuracy=92.50: 100%|██████████| 391/391 [00:12<00:00, 30.67it/s]\n",
            "100%|██████████| 79/79 [00:01<00:00, 42.79it/s]\n",
            "  0%|          | 0/391 [00:00<?, ?it/s]"
          ],
          "name": "stderr"
        },
        {
          "output_type": "stream",
          "text": [
            "Accuracy of the network on the 10000 test images: 75 %\n",
            "lr=  9.871517456361005e-06\n"
          ],
          "name": "stdout"
        },
        {
          "output_type": "stream",
          "text": [
            "Epoch= 31 Loss=0.2724546194076538 Batch_id=390 Accuracy=90.00: 100%|██████████| 391/391 [00:12<00:00, 30.55it/s]\n",
            "100%|██████████| 79/79 [00:01<00:00, 42.64it/s]\n",
            "  0%|          | 0/391 [00:00<?, ?it/s]"
          ],
          "name": "stderr"
        },
        {
          "output_type": "stream",
          "text": [
            "Accuracy of the network on the 10000 test images: 74 %\n",
            "lr=  9.871517456361005e-06\n"
          ],
          "name": "stdout"
        },
        {
          "output_type": "stream",
          "text": [
            "Epoch= 32 Loss=0.44244813919067383 Batch_id=390 Accuracy=85.00: 100%|██████████| 391/391 [00:12<00:00, 30.82it/s]\n",
            "100%|██████████| 79/79 [00:01<00:00, 42.46it/s]\n",
            "  0%|          | 0/391 [00:00<?, ?it/s]"
          ],
          "name": "stderr"
        },
        {
          "output_type": "stream",
          "text": [
            "Accuracy of the network on the 10000 test images: 74 %\n",
            "lr=  9.871517456361005e-06\n"
          ],
          "name": "stdout"
        },
        {
          "output_type": "stream",
          "text": [
            "Epoch= 33 Loss=0.2589678466320038 Batch_id=390 Accuracy=90.00: 100%|██████████| 391/391 [00:12<00:00, 30.67it/s]\n",
            "100%|██████████| 79/79 [00:01<00:00, 42.62it/s]\n",
            "  0%|          | 0/391 [00:00<?, ?it/s]"
          ],
          "name": "stderr"
        },
        {
          "output_type": "stream",
          "text": [
            "Accuracy of the network on the 10000 test images: 75 %\n",
            "lr=  5.034473902744113e-06\n"
          ],
          "name": "stdout"
        },
        {
          "output_type": "stream",
          "text": [
            "Epoch= 34 Loss=0.294638067483902 Batch_id=390 Accuracy=92.50: 100%|██████████| 391/391 [00:12<00:00, 30.88it/s]\n",
            "100%|██████████| 79/79 [00:01<00:00, 43.22it/s]\n",
            "  0%|          | 0/391 [00:00<?, ?it/s]"
          ],
          "name": "stderr"
        },
        {
          "output_type": "stream",
          "text": [
            "Accuracy of the network on the 10000 test images: 75 %\n",
            "lr=  5.034473902744113e-06\n"
          ],
          "name": "stdout"
        },
        {
          "output_type": "stream",
          "text": [
            "Epoch= 35 Loss=0.30858033895492554 Batch_id=390 Accuracy=87.50: 100%|██████████| 391/391 [00:12<00:00, 30.54it/s]\n",
            "100%|██████████| 79/79 [00:01<00:00, 42.52it/s]"
          ],
          "name": "stderr"
        },
        {
          "output_type": "stream",
          "text": [
            "Accuracy of the network on the 10000 test images: 75 %\n",
            "Finished Training\n"
          ],
          "name": "stdout"
        },
        {
          "output_type": "stream",
          "text": [
            "\n"
          ],
          "name": "stderr"
        }
      ]
    }
  ]
}
