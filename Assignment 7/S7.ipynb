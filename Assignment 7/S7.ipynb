{
  "nbformat": 4,
  "nbformat_minor": 0,
  "metadata": {
    "kernelspec": {
      "name": "python3",
      "display_name": "Python 3"
    },
    "language_info": {
      "codemirror_mode": {
        "name": "ipython",
        "version": 3
      },
      "file_extension": ".py",
      "mimetype": "text/x-python",
      "name": "python",
      "nbconvert_exporter": "python",
      "pygments_lexer": "ipython3",
      "version": "3.6.6"
    },
    "colab": {
      "name": "S7.ipynb",
      "provenance": [],
      "include_colab_link": true
    },
    "accelerator": "GPU",
    "widgets": {
      "application/vnd.jupyter.widget-state+json": {
        "36987a3bdf964164ae6a1978071e8d24": {
          "model_module": "@jupyter-widgets/controls",
          "model_name": "HBoxModel",
          "state": {
            "_view_name": "HBoxView",
            "_dom_classes": [],
            "_model_name": "HBoxModel",
            "_view_module": "@jupyter-widgets/controls",
            "_model_module_version": "1.5.0",
            "_view_count": null,
            "_view_module_version": "1.5.0",
            "box_style": "",
            "layout": "IPY_MODEL_3cf82f72c467485b94e1b21edb2b8aab",
            "_model_module": "@jupyter-widgets/controls",
            "children": [
              "IPY_MODEL_c464e13f40974f4d8b997dd1fb6c9b40",
              "IPY_MODEL_1390090997a84c93a392c5d09f9b3b0a"
            ]
          }
        },
        "3cf82f72c467485b94e1b21edb2b8aab": {
          "model_module": "@jupyter-widgets/base",
          "model_name": "LayoutModel",
          "state": {
            "_view_name": "LayoutView",
            "grid_template_rows": null,
            "right": null,
            "justify_content": null,
            "_view_module": "@jupyter-widgets/base",
            "overflow": null,
            "_model_module_version": "1.2.0",
            "_view_count": null,
            "flex_flow": null,
            "width": null,
            "min_width": null,
            "border": null,
            "align_items": null,
            "bottom": null,
            "_model_module": "@jupyter-widgets/base",
            "top": null,
            "grid_column": null,
            "overflow_y": null,
            "overflow_x": null,
            "grid_auto_flow": null,
            "grid_area": null,
            "grid_template_columns": null,
            "flex": null,
            "_model_name": "LayoutModel",
            "justify_items": null,
            "grid_row": null,
            "max_height": null,
            "align_content": null,
            "visibility": null,
            "align_self": null,
            "height": null,
            "min_height": null,
            "padding": null,
            "grid_auto_rows": null,
            "grid_gap": null,
            "max_width": null,
            "order": null,
            "_view_module_version": "1.2.0",
            "grid_template_areas": null,
            "object_position": null,
            "object_fit": null,
            "grid_auto_columns": null,
            "margin": null,
            "display": null,
            "left": null
          }
        },
        "c464e13f40974f4d8b997dd1fb6c9b40": {
          "model_module": "@jupyter-widgets/controls",
          "model_name": "IntProgressModel",
          "state": {
            "_view_name": "ProgressView",
            "style": "IPY_MODEL_727776b11c4b4f63bf5c2bca337cc586",
            "_dom_classes": [],
            "description": "",
            "_model_name": "IntProgressModel",
            "bar_style": "success",
            "max": 1,
            "_view_module": "@jupyter-widgets/controls",
            "_model_module_version": "1.5.0",
            "value": 1,
            "_view_count": null,
            "_view_module_version": "1.5.0",
            "orientation": "horizontal",
            "min": 0,
            "description_tooltip": null,
            "_model_module": "@jupyter-widgets/controls",
            "layout": "IPY_MODEL_1f21792a5c8a45a78ef0f6cbb1e3ae9f"
          }
        },
        "1390090997a84c93a392c5d09f9b3b0a": {
          "model_module": "@jupyter-widgets/controls",
          "model_name": "HTMLModel",
          "state": {
            "_view_name": "HTMLView",
            "style": "IPY_MODEL_a8600a35271c4dd4a14080ac3a5446fb",
            "_dom_classes": [],
            "description": "",
            "_model_name": "HTMLModel",
            "placeholder": "​",
            "_view_module": "@jupyter-widgets/controls",
            "_model_module_version": "1.5.0",
            "value": "170500096it [00:03, 43743004.89it/s]",
            "_view_count": null,
            "_view_module_version": "1.5.0",
            "description_tooltip": null,
            "_model_module": "@jupyter-widgets/controls",
            "layout": "IPY_MODEL_952f173742ee40ce91506160b0bea27c"
          }
        },
        "727776b11c4b4f63bf5c2bca337cc586": {
          "model_module": "@jupyter-widgets/controls",
          "model_name": "ProgressStyleModel",
          "state": {
            "_view_name": "StyleView",
            "_model_name": "ProgressStyleModel",
            "description_width": "",
            "_view_module": "@jupyter-widgets/base",
            "_model_module_version": "1.5.0",
            "_view_count": null,
            "_view_module_version": "1.2.0",
            "bar_color": null,
            "_model_module": "@jupyter-widgets/controls"
          }
        },
        "1f21792a5c8a45a78ef0f6cbb1e3ae9f": {
          "model_module": "@jupyter-widgets/base",
          "model_name": "LayoutModel",
          "state": {
            "_view_name": "LayoutView",
            "grid_template_rows": null,
            "right": null,
            "justify_content": null,
            "_view_module": "@jupyter-widgets/base",
            "overflow": null,
            "_model_module_version": "1.2.0",
            "_view_count": null,
            "flex_flow": null,
            "width": null,
            "min_width": null,
            "border": null,
            "align_items": null,
            "bottom": null,
            "_model_module": "@jupyter-widgets/base",
            "top": null,
            "grid_column": null,
            "overflow_y": null,
            "overflow_x": null,
            "grid_auto_flow": null,
            "grid_area": null,
            "grid_template_columns": null,
            "flex": null,
            "_model_name": "LayoutModel",
            "justify_items": null,
            "grid_row": null,
            "max_height": null,
            "align_content": null,
            "visibility": null,
            "align_self": null,
            "height": null,
            "min_height": null,
            "padding": null,
            "grid_auto_rows": null,
            "grid_gap": null,
            "max_width": null,
            "order": null,
            "_view_module_version": "1.2.0",
            "grid_template_areas": null,
            "object_position": null,
            "object_fit": null,
            "grid_auto_columns": null,
            "margin": null,
            "display": null,
            "left": null
          }
        },
        "a8600a35271c4dd4a14080ac3a5446fb": {
          "model_module": "@jupyter-widgets/controls",
          "model_name": "DescriptionStyleModel",
          "state": {
            "_view_name": "StyleView",
            "_model_name": "DescriptionStyleModel",
            "description_width": "",
            "_view_module": "@jupyter-widgets/base",
            "_model_module_version": "1.5.0",
            "_view_count": null,
            "_view_module_version": "1.2.0",
            "_model_module": "@jupyter-widgets/controls"
          }
        },
        "952f173742ee40ce91506160b0bea27c": {
          "model_module": "@jupyter-widgets/base",
          "model_name": "LayoutModel",
          "state": {
            "_view_name": "LayoutView",
            "grid_template_rows": null,
            "right": null,
            "justify_content": null,
            "_view_module": "@jupyter-widgets/base",
            "overflow": null,
            "_model_module_version": "1.2.0",
            "_view_count": null,
            "flex_flow": null,
            "width": null,
            "min_width": null,
            "border": null,
            "align_items": null,
            "bottom": null,
            "_model_module": "@jupyter-widgets/base",
            "top": null,
            "grid_column": null,
            "overflow_y": null,
            "overflow_x": null,
            "grid_auto_flow": null,
            "grid_area": null,
            "grid_template_columns": null,
            "flex": null,
            "_model_name": "LayoutModel",
            "justify_items": null,
            "grid_row": null,
            "max_height": null,
            "align_content": null,
            "visibility": null,
            "align_self": null,
            "height": null,
            "min_height": null,
            "padding": null,
            "grid_auto_rows": null,
            "grid_gap": null,
            "max_width": null,
            "order": null,
            "_view_module_version": "1.2.0",
            "grid_template_areas": null,
            "object_position": null,
            "object_fit": null,
            "grid_auto_columns": null,
            "margin": null,
            "display": null,
            "left": null
          }
        }
      }
    }
  },
  "cells": [
    {
      "cell_type": "markdown",
      "metadata": {
        "id": "view-in-github",
        "colab_type": "text"
      },
      "source": [
        "<a href=\"https://colab.research.google.com/github/kothawadegs/Deep-Learning/blob/master/S7.ipynb\" target=\"_parent\"><img src=\"https://colab.research.google.com/assets/colab-badge.svg\" alt=\"Open In Colab\"/></a>"
      ]
    },
    {
      "cell_type": "code",
      "metadata": {
        "id": "QVbdg0z4poCc",
        "colab_type": "code",
        "colab": {}
      },
      "source": [
        "%matplotlib inline"
      ],
      "execution_count": 0,
      "outputs": []
    },
    {
      "cell_type": "markdown",
      "metadata": {
        "id": "fPogbueepoCh",
        "colab_type": "text"
      },
      "source": [
        "\n",
        "Training a Classifier\n",
        "=====================\n",
        "\n",
        "This is it. You have seen how to define neural networks, compute loss and make\n",
        "updates to the weights of the network.\n",
        "\n",
        "Now you might be thinking,\n",
        "\n",
        "What about data?\n",
        "----------------\n",
        "\n",
        "Generally, when you have to deal with image, text, audio or video data,\n",
        "you can use standard python packages that load data into a numpy array.\n",
        "Then you can convert this array into a ``torch.*Tensor``.\n",
        "\n",
        "-  For images, packages such as Pillow, OpenCV are useful\n",
        "-  For audio, packages such as scipy and librosa\n",
        "-  For text, either raw Python or Cython based loading, or NLTK and\n",
        "   SpaCy are useful\n",
        "\n",
        "Specifically for vision, we have created a package called\n",
        "``torchvision``, that has data loaders for common datasets such as\n",
        "Imagenet, CIFAR10, MNIST, etc. and data transformers for images, viz.,\n",
        "``torchvision.datasets`` and ``torch.utils.data.DataLoader``.\n",
        "\n",
        "This provides a huge convenience and avoids writing boilerplate code.\n",
        "\n",
        "For this tutorial, we will use the CIFAR10 dataset.\n",
        "It has the classes: ‘airplane’, ‘automobile’, ‘bird’, ‘cat’, ‘deer’,\n",
        "‘dog’, ‘frog’, ‘horse’, ‘ship’, ‘truck’. The images in CIFAR-10 are of\n",
        "size 3x32x32, i.e. 3-channel color images of 32x32 pixels in size.\n",
        "\n",
        ".. figure:: /_static/img/cifar10.png\n",
        "   :alt: cifar10\n",
        "\n",
        "   cifar10\n",
        "\n",
        "\n",
        "Training an image classifier\n",
        "----------------------------\n",
        "\n",
        "We will do the following steps in order:\n",
        "\n",
        "1. Load and normalizing the CIFAR10 training and test datasets using\n",
        "   ``torchvision``\n",
        "2. Define a Convolution Neural Network\n",
        "3. Define a loss function\n",
        "4. Train the network on the training data\n",
        "5. Test the network on the test data\n",
        "\n",
        "1. Loading and normalizing CIFAR10\n",
        "^^^^^^^^^^^^^^^^^^^^^^^^^^^^^^^^^^\n",
        "\n",
        "Using ``torchvision``, it’s extremely easy to load CIFAR10.\n",
        "\n"
      ]
    },
    {
      "cell_type": "code",
      "metadata": {
        "id": "-yVpodAMpoCi",
        "colab_type": "code",
        "colab": {}
      },
      "source": [
        "import torch\n",
        "import torchvision\n",
        "import torchvision.transforms as transforms"
      ],
      "execution_count": 0,
      "outputs": []
    },
    {
      "cell_type": "markdown",
      "metadata": {
        "id": "5kjt4e2TpoCk",
        "colab_type": "text"
      },
      "source": [
        "The output of torchvision datasets are PILImage images of range [0, 1].\n",
        "We transform them to Tensors of normalized range [-1, 1].\n",
        "\n"
      ]
    },
    {
      "cell_type": "code",
      "metadata": {
        "id": "D8Tjigo2poCl",
        "colab_type": "code",
        "outputId": "9f3b98ee-6522-4a1b-8540-b314eb993c93",
        "colab": {
          "base_uri": "https://localhost:8080/",
          "height": 117,
          "referenced_widgets": [
            "36987a3bdf964164ae6a1978071e8d24",
            "3cf82f72c467485b94e1b21edb2b8aab",
            "c464e13f40974f4d8b997dd1fb6c9b40",
            "1390090997a84c93a392c5d09f9b3b0a",
            "727776b11c4b4f63bf5c2bca337cc586",
            "1f21792a5c8a45a78ef0f6cbb1e3ae9f",
            "a8600a35271c4dd4a14080ac3a5446fb",
            "952f173742ee40ce91506160b0bea27c"
          ]
        }
      },
      "source": [
        "transform = transforms.Compose(\n",
        "    [ transforms.RandomCrop(32, padding=4),\n",
        "    transforms.RandomHorizontalFlip(),\n",
        "     transforms.ColorJitter(brightness=0.10, contrast=0.1, saturation=0.10, hue=0.1),\n",
        "     transforms.ToTensor(),  \n",
        "     transforms.Normalize((0.5, 0.5, 0.5), (0.5, 0.5, 0.5))])\n",
        "\n",
        "trainset = torchvision.datasets.CIFAR10(root='./data', train=True,\n",
        "                                        download=True, transform=transform)\n",
        "trainloader = torch.utils.data.DataLoader(trainset, batch_size=4,\n",
        "                                          shuffle=True, num_workers=2)\n",
        "\n",
        "testset = torchvision.datasets.CIFAR10(root='./data', train=False,\n",
        "                                       download=True, transform=transform)\n",
        "testloader = torch.utils.data.DataLoader(testset, batch_size=4,\n",
        "                                         shuffle=False, num_workers=2)\n",
        "\n",
        "classes = ('plane', 'car', 'bird', 'cat',\n",
        "           'deer', 'dog', 'frog', 'horse', 'ship', 'truck')"
      ],
      "execution_count": 4,
      "outputs": [
        {
          "output_type": "stream",
          "text": [
            "Downloading https://www.cs.toronto.edu/~kriz/cifar-10-python.tar.gz to ./data/cifar-10-python.tar.gz\n"
          ],
          "name": "stdout"
        },
        {
          "output_type": "display_data",
          "data": {
            "application/vnd.jupyter.widget-view+json": {
              "model_id": "36987a3bdf964164ae6a1978071e8d24",
              "version_minor": 0,
              "version_major": 2
            },
            "text/plain": [
              "HBox(children=(IntProgress(value=1, bar_style='info', max=1), HTML(value='')))"
            ]
          },
          "metadata": {
            "tags": []
          }
        },
        {
          "output_type": "stream",
          "text": [
            "\n",
            "Extracting ./data/cifar-10-python.tar.gz to ./data\n",
            "Files already downloaded and verified\n"
          ],
          "name": "stdout"
        }
      ]
    },
    {
      "cell_type": "markdown",
      "metadata": {
        "id": "_cj433rtpoCn",
        "colab_type": "text"
      },
      "source": [
        "Let us show some of the training images, for fun.\n",
        "\n"
      ]
    },
    {
      "cell_type": "code",
      "metadata": {
        "id": "daA7bADhpoCo",
        "colab_type": "code",
        "outputId": "32d083f2-f0a2-45fe-c3db-2cc2643656af",
        "colab": {
          "base_uri": "https://localhost:8080/",
          "height": 155
        }
      },
      "source": [
        "import matplotlib.pyplot as plt\n",
        "import numpy as np\n",
        "\n",
        "# functions to show an image\n",
        "\n",
        "def imshow(img):\n",
        "    img = img / 2 + 0.5     # unnormalize\n",
        "    npimg = img.numpy()\n",
        "    plt.imshow(np.transpose(npimg, (1, 2, 0)))\n",
        "\n",
        "# get some random training images\n",
        "dataiter = iter(trainloader)\n",
        "images, labels = dataiter.next()\n",
        "\n",
        "# show images\n",
        "imshow(torchvision.utils.make_grid(images))\n",
        "# print labels\n",
        "print(' '.join('%5s' % classes[labels[j]] for j in range(4)))"
      ],
      "execution_count": 5,
      "outputs": [
        {
          "output_type": "stream",
          "text": [
            "  dog   car plane  frog\n"
          ],
          "name": "stdout"
        },
        {
          "output_type": "display_data",
          "data": {
            "image/png": "[encoded data removed]",
            "text/plain": [
              "<Figure size 432x288 with 1 Axes>"
            ]
          },
          "metadata": {
            "tags": []
          }
        }
      ]
    },
    {
      "cell_type": "markdown",
      "metadata": {
        "id": "28OpHA_LpoCq",
        "colab_type": "text"
      },
      "source": [
        "2. Define a Convolution Neural Network\n",
        "^^^^^^^^^^^^^^^^^^^^^^^^^^^^^^^^^^^^^^\n",
        "Copy the neural network from the Neural Networks section before and modify it to\n",
        "take 3-channel images (instead of 1-channel images as it was defined).\n",
        "\n"
      ]
    },
    {
      "cell_type": "code",
      "metadata": {
        "id": "0jjLwLLQpoCr",
        "colab_type": "code",
        "colab": {}
      },
      "source": [
        "import torch\n",
        "import torchvision\n",
        "import torch.nn as nn\n",
        "import torch.nn.functional as F\n",
        "\n",
        "dropout_value = 0.1\n",
        "class Net(nn.Module):\n",
        "    def __init__(self):\n",
        "        super(Net, self).__init__()\n",
        "\n",
        "        # Input Block\n",
        "        self.convblock1 = nn.Sequential(\n",
        "            nn.Conv2d(in_channels=3, out_channels= 32, kernel_size=(3, 3), padding=1, bias=False),\n",
        "            nn.ReLU(),\n",
        "            nn.BatchNorm2d(32),\n",
        "            nn.Dropout(dropout_value)\n",
        "        ) # output_size = 32 # RF =3\n",
        "\n",
        "        # CONVOLUTION BLOCK 1\n",
        "        self.convblock2 = nn.Sequential(\n",
        "            nn.Conv2d(in_channels=32, out_channels=64, kernel_size=(3, 3), padding=1, bias=False,dilation = 2),\n",
        "            nn.ReLU(),\n",
        "            nn.BatchNorm2d(64),\n",
        "            nn.Dropout(dropout_value)\n",
        "        ) # output_size = 32 # rf=7\n",
        "\n",
        "        self.pool1 = nn.MaxPool2d(2, 2) # output_size = 16 #rf=9 \n",
        "\n",
        "        # CONVOLUTION BLOCK 2 \n",
        "        self.convblock3 = nn.Sequential(\n",
        "            nn.Conv2d(in_channels=64, out_channels= 128 , kernel_size=(3, 3), padding=1, bias=False),\n",
        "            nn.ReLU(),            \n",
        "            nn.BatchNorm2d(128),\n",
        "            nn.Dropout(dropout_value)\n",
        "        ) # output_size = 16 # rf=13\n",
        "\n",
        "        self.convblock4 = nn.Sequential(\n",
        "            nn.Conv2d(in_channels=128, out_channels=128 , kernel_size=(3, 3), padding=1, bias=False, groups = 128),\n",
        "            nn.ReLU(),            \n",
        "            nn.BatchNorm2d(128),\n",
        "            nn.Dropout(dropout_value)\n",
        "        ) # output_size = 16 #rf = 15\n",
        "\n",
        "        self.pool2 = nn.MaxPool2d(2, 2) # output_size = 8\n",
        "\n",
        "        self.convblock5 = nn.Sequential(\n",
        "            nn.Conv2d(in_channels=128, out_channels= 256 , kernel_size=(3, 3), padding=1, bias=False),\n",
        "            nn.ReLU(),            \n",
        "            nn.BatchNorm2d(256),\n",
        "            nn.Dropout(dropout_value)\n",
        "        ) # output_size = 8\n",
        "       \n",
        "\n",
        "        \n",
        "        # OUTPUT BLOCK\n",
        "        self.gap = nn.Sequential(\n",
        "            nn.AvgPool2d(kernel_size=6)\n",
        "        ) # output_size = 1\n",
        "\n",
        "        self.convblock7 = nn.Sequential(\n",
        "            nn.Conv2d(in_channels= 256 , out_channels=10, kernel_size=(1, 1), padding=0, bias=False),\n",
        "            # nn.BatchNorm2d(10),\n",
        "            # nn.ReLU(),\n",
        "            # nn.Dropout(dropout_value)\n",
        "        ) \n",
        "\n",
        "\n",
        "        self.dropout = nn.Dropout(dropout_value)\n",
        "\n",
        "    def forward(self, x):\n",
        "        x = self.convblock1(x)\n",
        "        x = self.convblock2(x)\n",
        "        x = self.pool1(x)\n",
        "        x = self.convblock3(x)\n",
        "        x = self.convblock4(x)\n",
        "  \n",
        "        x = self.pool2(x)\n",
        "        x = self.convblock5(x)\n",
        "\n",
        "        x = self.gap(x)        \n",
        "        x = self.convblock7(x)\n",
        "\n",
        "        x = x.view(-1, 10)\n",
        "        return F.log_softmax(x, dim=-1)\n",
        "\n",
        "\n",
        "net = Net()\n",
        "\n",
        "if torch.cuda.is_available():\n",
        "    net = net.cuda()\n",
        "    net = torch.nn.DataParallel(net, device_ids=range(torch.cuda.device_count()))\n",
        "#     #cudnn.benchmark = True\n"
      ],
      "execution_count": 0,
      "outputs": []
    },
    {
      "cell_type": "code",
      "metadata": {
        "id": "xuwTVQ7W1tVh",
        "colab_type": "code",
        "colab": {
          "base_uri": "https://localhost:8080/",
          "height": 680
        },
        "outputId": "dafd6030-0001-44f0-d9c1-a7fb94002aac"
      },
      "source": [
        "!pip install torchsummary\n",
        "from torchsummary import summary\n",
        "use_cuda = torch.cuda.is_available()\n",
        "device = torch.device(\"cuda\" if use_cuda else \"cpu\")\n",
        "print(device)\n",
        "model = Net().to(device)\n",
        "summary(model, input_size=(3,32,32))"
      ],
      "execution_count": 7,
      "outputs": [
        {
          "output_type": "stream",
          "text": [
            "Requirement already satisfied: torchsummary in /usr/local/lib/python3.6/dist-packages (1.5.1)\n",
            "cuda\n",
            "----------------------------------------------------------------\n",
            "        Layer (type)               Output Shape         Param #\n",
            "================================================================\n",
            "            Conv2d-1           [-1, 32, 32, 32]             864\n",
            "              ReLU-2           [-1, 32, 32, 32]               0\n",
            "       BatchNorm2d-3           [-1, 32, 32, 32]              64\n",
            "           Dropout-4           [-1, 32, 32, 32]               0\n",
            "            Conv2d-5           [-1, 64, 30, 30]          18,432\n",
            "              ReLU-6           [-1, 64, 30, 30]               0\n",
            "       BatchNorm2d-7           [-1, 64, 30, 30]             128\n",
            "           Dropout-8           [-1, 64, 30, 30]               0\n",
            "         MaxPool2d-9           [-1, 64, 15, 15]               0\n",
            "           Conv2d-10          [-1, 128, 15, 15]          73,728\n",
            "             ReLU-11          [-1, 128, 15, 15]               0\n",
            "      BatchNorm2d-12          [-1, 128, 15, 15]             256\n",
            "          Dropout-13          [-1, 128, 15, 15]               0\n",
            "           Conv2d-14          [-1, 128, 15, 15]           1,152\n",
            "             ReLU-15          [-1, 128, 15, 15]               0\n",
            "      BatchNorm2d-16          [-1, 128, 15, 15]             256\n",
            "          Dropout-17          [-1, 128, 15, 15]               0\n",
            "        MaxPool2d-18            [-1, 128, 7, 7]               0\n",
            "           Conv2d-19            [-1, 256, 7, 7]         294,912\n",
            "             ReLU-20            [-1, 256, 7, 7]               0\n",
            "      BatchNorm2d-21            [-1, 256, 7, 7]             512\n",
            "          Dropout-22            [-1, 256, 7, 7]               0\n",
            "        AvgPool2d-23            [-1, 256, 1, 1]               0\n",
            "           Conv2d-24             [-1, 10, 1, 1]           2,560\n",
            "================================================================\n",
            "Total params: 392,864\n",
            "Trainable params: 392,864\n",
            "Non-trainable params: 0\n",
            "----------------------------------------------------------------\n",
            "Input size (MB): 0.01\n",
            "Forward/backward pass size (MB): 5.06\n",
            "Params size (MB): 1.50\n",
            "Estimated Total Size (MB): 6.57\n",
            "----------------------------------------------------------------\n"
          ],
          "name": "stdout"
        }
      ]
    },
    {
      "cell_type": "markdown",
      "metadata": {
        "id": "C3zSTvpk17qC",
        "colab_type": "text"
      },
      "source": [
        "Define a Loss function and optimizer ^^^^^^^^^^^^^^^^^^^^^^^^^^^^^^^^^^^^^^^ Let's use a Classification Cross-Entropy loss and SGD with momentum."
      ]
    },
    {
      "cell_type": "code",
      "metadata": {
        "id": "eQ9KikFl19Hm",
        "colab_type": "code",
        "colab": {}
      },
      "source": [
        "import torch.optim as optim\n",
        "\n",
        "criterion = nn.CrossEntropyLoss()\n",
        "optimizer = optim.SGD(net.parameters(), lr=0.001, momentum=0.9)"
      ],
      "execution_count": 0,
      "outputs": []
    },
    {
      "cell_type": "markdown",
      "metadata": {
        "id": "BjXm7pwd2Euv",
        "colab_type": "text"
      },
      "source": [
        "1.Train the network ^^^^^^^^^^^^^^^^^^^^\n",
        "This is when things start to get interesting. We simply have to loop over our data iterator, and feed the inputs to the network and optimize."
      ]
    },
    {
      "cell_type": "code",
      "metadata": {
        "id": "5jr9jyay2BzJ",
        "colab_type": "code",
        "colab": {
          "base_uri": "https://localhost:8080/",
          "height": 1000
        },
        "outputId": "bf66a49b-7171-42df-9f48-2791ab9ac39d"
      },
      "source": [
        "for epoch in range(25):  # loop over the dataset multiple times\n",
        "\n",
        "    running_loss = 0.0\n",
        "    for i, data in enumerate(trainloader, 0):\n",
        "        # get the inputs\n",
        "        inputs, labels = data\n",
        "\n",
        "        if torch.cuda.is_available():\n",
        "            inputs = inputs.cuda()\n",
        "            labels = labels.cuda()\n",
        "        # zero the parameter gradients\n",
        "        optimizer.zero_grad()\n",
        "\n",
        "        # forward + backward + optimize\n",
        "        outputs = net(inputs)\n",
        "        loss = criterion(outputs, labels)\n",
        "        loss.backward()\n",
        "        optimizer.step()\n",
        "\n",
        "        # print statistics\n",
        "        running_loss += loss.item()\n",
        "        if i % 2000 == 1999:    # print every 2000 mini-batches\n",
        "            print('[%d, %5d] loss: %.3f' %\n",
        "                  (epoch + 1, i + 1, running_loss / 2000))\n",
        "            running_loss = 0.0\n",
        "\n",
        "print('Finished Training')"
      ],
      "execution_count": 9,
      "outputs": [
        {
          "output_type": "stream",
          "text": [
            "[1,  2000] loss: 1.890\n",
            "[1,  4000] loss: 1.643\n",
            "[1,  6000] loss: 1.517\n",
            "[1,  8000] loss: 1.421\n",
            "[1, 10000] loss: 1.357\n",
            "[1, 12000] loss: 1.287\n",
            "[2,  2000] loss: 1.210\n",
            "[2,  4000] loss: 1.174\n",
            "[2,  6000] loss: 1.112\n",
            "[2,  8000] loss: 1.105\n",
            "[2, 10000] loss: 1.095\n",
            "[2, 12000] loss: 1.060\n",
            "[3,  2000] loss: 0.982\n",
            "[3,  4000] loss: 1.002\n",
            "[3,  6000] loss: 0.977\n",
            "[3,  8000] loss: 0.938\n",
            "[3, 10000] loss: 0.944\n",
            "[3, 12000] loss: 0.947\n",
            "[4,  2000] loss: 0.889\n",
            "[4,  4000] loss: 0.895\n",
            "[4,  6000] loss: 0.877\n",
            "[4,  8000] loss: 0.850\n",
            "[4, 10000] loss: 0.844\n",
            "[4, 12000] loss: 0.832\n",
            "[5,  2000] loss: 0.807\n",
            "[5,  4000] loss: 0.793\n",
            "[5,  6000] loss: 0.822\n",
            "[5,  8000] loss: 0.807\n",
            "[5, 10000] loss: 0.805\n",
            "[5, 12000] loss: 0.778\n",
            "[6,  2000] loss: 0.753\n",
            "[6,  4000] loss: 0.756\n",
            "[6,  6000] loss: 0.750\n",
            "[6,  8000] loss: 0.743\n",
            "[6, 10000] loss: 0.756\n",
            "[6, 12000] loss: 0.736\n",
            "[7,  2000] loss: 0.719\n",
            "[7,  4000] loss: 0.722\n",
            "[7,  6000] loss: 0.716\n",
            "[7,  8000] loss: 0.724\n",
            "[7, 10000] loss: 0.713\n",
            "[7, 12000] loss: 0.705\n",
            "[8,  2000] loss: 0.687\n",
            "[8,  4000] loss: 0.707\n",
            "[8,  6000] loss: 0.670\n",
            "[8,  8000] loss: 0.657\n",
            "[8, 10000] loss: 0.691\n",
            "[8, 12000] loss: 0.684\n",
            "[9,  2000] loss: 0.661\n",
            "[9,  4000] loss: 0.671\n",
            "[9,  6000] loss: 0.674\n",
            "[9,  8000] loss: 0.626\n",
            "[9, 10000] loss: 0.654\n",
            "[9, 12000] loss: 0.638\n",
            "[10,  2000] loss: 0.645\n",
            "[10,  4000] loss: 0.630\n",
            "[10,  6000] loss: 0.623\n",
            "[10,  8000] loss: 0.623\n",
            "[10, 10000] loss: 0.633\n",
            "[10, 12000] loss: 0.631\n",
            "[11,  2000] loss: 0.646\n",
            "[11,  4000] loss: 0.603\n",
            "[11,  6000] loss: 0.607\n",
            "[11,  8000] loss: 0.613\n",
            "[11, 10000] loss: 0.601\n",
            "[11, 12000] loss: 0.619\n",
            "[12,  2000] loss: 0.610\n",
            "[12,  4000] loss: 0.577\n",
            "[12,  6000] loss: 0.587\n",
            "[12,  8000] loss: 0.604\n",
            "[12, 10000] loss: 0.605\n",
            "[12, 12000] loss: 0.588\n",
            "[13,  2000] loss: 0.582\n",
            "[13,  4000] loss: 0.583\n",
            "[13,  6000] loss: 0.564\n",
            "[13,  8000] loss: 0.579\n",
            "[13, 10000] loss: 0.589\n",
            "[13, 12000] loss: 0.574\n",
            "[14,  2000] loss: 0.545\n",
            "[14,  4000] loss: 0.560\n",
            "[14,  6000] loss: 0.571\n",
            "[14,  8000] loss: 0.549\n",
            "[14, 10000] loss: 0.572\n",
            "[14, 12000] loss: 0.565\n",
            "[15,  2000] loss: 0.523\n",
            "[15,  4000] loss: 0.549\n",
            "[15,  6000] loss: 0.552\n",
            "[15,  8000] loss: 0.542\n",
            "[15, 10000] loss: 0.553\n",
            "[15, 12000] loss: 0.578\n",
            "[16,  2000] loss: 0.514\n",
            "[16,  4000] loss: 0.539\n",
            "[16,  6000] loss: 0.534\n",
            "[16,  8000] loss: 0.551\n",
            "[16, 10000] loss: 0.546\n",
            "[16, 12000] loss: 0.524\n",
            "[17,  2000] loss: 0.548\n",
            "[17,  4000] loss: 0.519\n",
            "[17,  6000] loss: 0.538\n",
            "[17,  8000] loss: 0.523\n",
            "[17, 10000] loss: 0.504\n",
            "[17, 12000] loss: 0.537\n",
            "[18,  2000] loss: 0.511\n",
            "[18,  4000] loss: 0.525\n",
            "[18,  6000] loss: 0.525\n",
            "[18,  8000] loss: 0.520\n",
            "[18, 10000] loss: 0.520\n",
            "[18, 12000] loss: 0.506\n",
            "[19,  2000] loss: 0.516\n",
            "[19,  4000] loss: 0.515\n",
            "[19,  6000] loss: 0.512\n",
            "[19,  8000] loss: 0.503\n",
            "[19, 10000] loss: 0.489\n",
            "[19, 12000] loss: 0.493\n",
            "[20,  2000] loss: 0.495\n",
            "[20,  4000] loss: 0.514\n",
            "[20,  6000] loss: 0.501\n",
            "[20,  8000] loss: 0.488\n",
            "[20, 10000] loss: 0.496\n",
            "[20, 12000] loss: 0.494\n",
            "[21,  2000] loss: 0.484\n",
            "[21,  4000] loss: 0.495\n",
            "[21,  6000] loss: 0.488\n",
            "[21,  8000] loss: 0.503\n",
            "[21, 10000] loss: 0.501\n",
            "[21, 12000] loss: 0.474\n",
            "[22,  2000] loss: 0.488\n",
            "[22,  4000] loss: 0.481\n",
            "[22,  6000] loss: 0.481\n",
            "[22,  8000] loss: 0.473\n",
            "[22, 10000] loss: 0.489\n",
            "[22, 12000] loss: 0.483\n",
            "[23,  2000] loss: 0.448\n",
            "[23,  4000] loss: 0.470\n",
            "[23,  6000] loss: 0.481\n",
            "[23,  8000] loss: 0.477\n",
            "[23, 10000] loss: 0.493\n",
            "[23, 12000] loss: 0.471\n",
            "[24,  2000] loss: 0.477\n",
            "[24,  4000] loss: 0.451\n",
            "[24,  6000] loss: 0.457\n",
            "[24,  8000] loss: 0.474\n",
            "[24, 10000] loss: 0.464\n",
            "[24, 12000] loss: 0.474\n",
            "[25,  2000] loss: 0.451\n",
            "[25,  4000] loss: 0.457\n",
            "[25,  6000] loss: 0.461\n",
            "[25,  8000] loss: 0.444\n",
            "[25, 10000] loss: 0.458\n",
            "[25, 12000] loss: 0.457\n",
            "Finished Training\n"
          ],
          "name": "stdout"
        }
      ]
    },
    {
      "cell_type": "markdown",
      "metadata": {
        "id": "HCs7KWYV2MbQ",
        "colab_type": "text"
      },
      "source": [
        "1.Test the network on the test data ^^^^^^^^^^^^^^^^^^^^^^^^^^^^^^^^^^^^\n",
        "We have trained the network for 2 passes over the training dataset. But we need to check if the network has learnt anything at all.\n",
        "\n",
        "We will check this by predicting the class label that the neural network outputs, and checking it against the ground-truth. If the prediction is correct, we add the sample to the list of correct predictions.\n",
        "\n",
        "Okay, first step. Let us display an image from the test set to get familiar."
      ]
    },
    {
      "cell_type": "code",
      "metadata": {
        "id": "6mRqG2Q26rRe",
        "colab_type": "code",
        "colab": {
          "base_uri": "https://localhost:8080/",
          "height": 155
        },
        "outputId": "9ff2073c-cf4b-429e-ded9-27e7d6543f24"
      },
      "source": [
        "dataiter = iter(testloader)\n",
        "images, labels = dataiter.next()\n",
        "\n",
        "# print images\n",
        "imshow(torchvision.utils.make_grid(images))\n",
        "print('GroundTruth: ', ' '.join('%5s' % classes[labels[j]] for j in range(4)))"
      ],
      "execution_count": 10,
      "outputs": [
        {
          "output_type": "stream",
          "text": [
            "GroundTruth:    cat  ship  ship plane\n"
          ],
          "name": "stdout"
        },
        {
          "output_type": "display_data",
          "data": {
            "image/png": "[encoded data removed]",
            "text/plain": [
              "<Figure size 432x288 with 1 Axes>"
            ]
          },
          "metadata": {
            "tags": []
          }
        }
      ]
    },
    {
      "cell_type": "markdown",
      "metadata": {
        "id": "yrbWxaos6uVq",
        "colab_type": "text"
      },
      "source": [
        "Okay, now let us see what the neural network thinks these examples above are:"
      ]
    },
    {
      "cell_type": "code",
      "metadata": {
        "id": "SPMkj-yr6vVd",
        "colab_type": "code",
        "colab": {}
      },
      "source": [
        "outputs = net(images)\n"
      ],
      "execution_count": 0,
      "outputs": []
    },
    {
      "cell_type": "markdown",
      "metadata": {
        "id": "0etEoIdO6xba",
        "colab_type": "text"
      },
      "source": [
        "\n",
        "The outputs are energies for the 10 classes. Higher the energy for a class, the more the network thinks that the image is of the particular class. So, let's get the index of the highest energy:"
      ]
    },
    {
      "cell_type": "code",
      "metadata": {
        "id": "ue47akqa2OcJ",
        "colab_type": "code",
        "colab": {
          "base_uri": "https://localhost:8080/",
          "height": 34
        },
        "outputId": "03bfe2e7-19c6-46c0-abe1-35632b931ccf"
      },
      "source": [
        "_, predicted = torch.max(outputs, 1)\n",
        "\n",
        "print('Predicted: ', ' '.join('%5s' % classes[predicted[j]]\n",
        "                              for j in range(4)))"
      ],
      "execution_count": 12,
      "outputs": [
        {
          "output_type": "stream",
          "text": [
            "Predicted:    cat  ship  ship plane\n"
          ],
          "name": "stdout"
        }
      ]
    },
    {
      "cell_type": "markdown",
      "metadata": {
        "id": "ON_WmGB665sl",
        "colab_type": "text"
      },
      "source": [
        "The results seem pretty good.\n",
        "\n",
        "Let us look at how the network performs on the whole dataset."
      ]
    },
    {
      "cell_type": "code",
      "metadata": {
        "id": "x8eWUcgI66qe",
        "colab_type": "code",
        "colab": {
          "base_uri": "https://localhost:8080/",
          "height": 34
        },
        "outputId": "134b5852-cc14-4ed1-9414-8191ede57347"
      },
      "source": [
        "use_cuda = torch.cuda.is_available()\n",
        "device = torch.device('cuda:0' if use_cuda else 'cpu')\n",
        "correct = 0\n",
        "total = 0\n",
        "with torch.no_grad():\n",
        "    for data in testloader:\n",
        "        images, labels = data\n",
        "        images = images.to(device)  # missing line from original code\n",
        "        labels = labels.to(device)  # missing line from original code\n",
        "        outputs = net(images)\n",
        "        _, predicted = torch.max(outputs.data, 1)\n",
        "        total += labels.size(0)\n",
        "        correct += (predicted == labels).sum().item()\n",
        "\n",
        "print('Accuracy of the network on the 10000 test images: %d %%' % (\n",
        "    100 * correct / total))"
      ],
      "execution_count": 13,
      "outputs": [
        {
          "output_type": "stream",
          "text": [
            "Accuracy of the network on the 10000 test images: 80 %\n"
          ],
          "name": "stdout"
        }
      ]
    },
    {
      "cell_type": "markdown",
      "metadata": {
        "id": "uJrp5Add69D1",
        "colab_type": "text"
      },
      "source": [
        "That looks waaay better than chance, which is 10% accuracy (randomly picking a class out of 10 classes). Seems like the network learnt something.\n",
        "\n",
        "Hmmm, what are the classes that performed well, and the classes that did not perform well:"
      ]
    },
    {
      "cell_type": "code",
      "metadata": {
        "id": "n_qgnt_Y6_bT",
        "colab_type": "code",
        "colab": {
          "base_uri": "https://localhost:8080/",
          "height": 187
        },
        "outputId": "7ff52b15-970e-4dc6-9573-1ba07da58275"
      },
      "source": [
        "class_correct = list(0. for i in range(10))\n",
        "class_total = list(0. for i in range(10))\n",
        "with torch.no_grad():\n",
        "    for data in testloader:\n",
        "        images, labels = data\n",
        "        images = images.to(device)  # missing line from original code\n",
        "        labels = labels.to(device)  # missing line from original code\n",
        "        outputs = net(images)\n",
        "        _, predicted = torch.max(outputs, 1)\n",
        "        c = (predicted == labels).squeeze()\n",
        "        for i in range(4):\n",
        "            label = labels[i]\n",
        "            class_correct[label] += c[i].item()\n",
        "            class_total[label] += 1\n",
        "\n",
        "for i in range(10):\n",
        "    print('Accuracy of %5s : %2d %%' % (\n",
        "        classes[i], 100 * class_correct[i] / class_total[i]))"
      ],
      "execution_count": 15,
      "outputs": [
        {
          "output_type": "stream",
          "text": [
            "Accuracy of plane : 84 %\n",
            "Accuracy of   car : 90 %\n",
            "Accuracy of  bird : 72 %\n",
            "Accuracy of   cat : 63 %\n",
            "Accuracy of  deer : 83 %\n",
            "Accuracy of   dog : 70 %\n",
            "Accuracy of  frog : 88 %\n",
            "Accuracy of horse : 81 %\n",
            "Accuracy of  ship : 90 %\n",
            "Accuracy of truck : 84 %\n"
          ],
          "name": "stdout"
        }
      ]
    },
    {
      "cell_type": "code",
      "metadata": {
        "id": "CPiOL44O--07",
        "colab_type": "code",
        "colab": {}
      },
      "source": [
        ""
      ],
      "execution_count": 0,
      "outputs": []
    }
  ]
}
